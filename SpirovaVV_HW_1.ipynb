{
  "cells": [
    {
      "cell_type": "markdown",
      "id": "cC1MDAgun8uV",
      "metadata": {
        "id": "cC1MDAgun8uV"
      },
      "source": [
        "## Домашнее задание:\n",
        "\n",
        "В эпикризах, которые у нас представлены, формат дат, относительно простой и легко поддаётся \"чистке\" и подготовке\n",
        "\n",
        "В домашнем задании, я хочу, чтобы вы отработали навыки использования регулярных выражений для подготовки дат"
      ]
    },
    {
      "cell_type": "markdown",
      "id": "jZA2BZ0zwaUA",
      "metadata": {
        "id": "jZA2BZ0zwaUA"
      },
      "source": [
        "- **Описание задания**\n",
        "Даты выражаются по-разному. В России дата обычно выражается в формате **`дд-ММ-гг`**; в то время как в США он обычно выражается в формате **`ММ-дд-гггг`**. Иногда люди также используют сокращения месяцев, например **`aug`**.\n",
        "\n",
        "  Цель этого задания — помочь вам познакомиться с регулярными выражениями (или «регулярными выражениями») и применить свои знания к реальным данным. Вы сможете:\n",
        "  - Используйте регулярные выражения для извлечения дат в различных форматах из текста.\n",
        "\n",
        "\n",
        "- **Требования**\n",
        "  - Извлеките даты из предоставленного файла .txt.\n",
        "  - Преобразование/нормализация извлеченных дат в желаемый формат **`гггг-ММ-дд`**\n",
        "    - Пример: дата извлечения **`27 сентября 2021 г.`**; Форматированная дата **`27.09.2021`**\n",
        "\n",
        "- **Правила нормализации форматированных дат**\n",
        "  - Предположим, что все даты в формате **`xx/xx/xx`** имеют формат **`мм/дд/гг`**.\n",
        "  - Предположим, что даты в формате **`xx/xx`** равны **`мм/гг`**.\n",
        "  - Предположим, что все даты, где год закодирован только двумя цифрами, относятся к 1900-м годам (например, `05.01.89` — это `5 января 1989 года`).\n",
        "  - Если день отсутствует (например, «9/2009»), предположим, что это первый день месяца (например, «1 сентября 2009 года»).\n",
        "  – Если месяц отсутствует (например, «2010»), предположим, что это первое января этого года (например, «1 января 2010 года»).\n",
        "\n",
        "- **Дополнительная информация**\n",
        "  - [Документация по регулярным выражениям](https://docs.python.org/3/library/re.html)"
      ]
    },
    {
      "cell_type": "markdown",
      "id": "Z6dTCUZ7wyid",
      "metadata": {
        "id": "Z6dTCUZ7wyid"
      },
      "source": [
        "### Описание файла данных\n",
        "Файл, который мы используем для этого задания, называется **`dates.txt`**. Каждая строка состоит из индекса строки, вкладки и соответствующего содержимого. Например:\n",
        "- `0<tab>: 10/12/92Total time of visit (in minutes):`"
      ]
    },
    {
      "cell_type": "markdown",
      "id": "qStfbyv9xHtS",
      "metadata": {
        "id": "qStfbyv9xHtS"
      },
      "source": [
        "#### Шаг 1: Прочтите файл\n",
        "- Попробуйте распечатать несколько строк и посмотреть, какие даты включены в файл."
      ]
    },
    {
      "cell_type": "code",
      "source": [
        "from google.colab import drive\n",
        "drive.mount('./drive')"
      ],
      "metadata": {
        "colab": {
          "base_uri": "https://localhost:8080/"
        },
        "id": "kSErwV1vXGOC",
        "outputId": "2da46b11-e039-4f4e-891a-d872c3b1763c"
      },
      "id": "kSErwV1vXGOC",
      "execution_count": 6,
      "outputs": [
        {
          "output_type": "stream",
          "name": "stdout",
          "text": [
            "Mounted at ./drive\n"
          ]
        }
      ]
    },
    {
      "cell_type": "code",
      "execution_count": 21,
      "id": "CiLZNBDZzosN",
      "metadata": {
        "id": "CiLZNBDZzosN"
      },
      "outputs": [],
      "source": [
        "path_to_dates_txt_file = '/content/drive/MyDrive/Data/dates.txt'"
      ]
    },
    {
      "cell_type": "code",
      "execution_count": 22,
      "id": "17Vm1OFhoPMo",
      "metadata": {
        "id": "17Vm1OFhoPMo",
        "outputId": "c15f1462-d4a2-402f-a900-a57afd7363da",
        "colab": {
          "base_uri": "https://localhost:8080/"
        }
      },
      "outputs": [
        {
          "output_type": "stream",
          "name": "stdout",
          "text": [
            "0\t: Na 130 on 7/21/1999Pertinent Medical Review of Systems Constitutional:\n",
            "\n",
            "1\t\"\"\"Hx of suicidal ideation and last felt suicidal in Marc, 1981. No Hx of suicide attempts. \"\"Felt that after being sober for 5 years and in custody for 22 months that I just wasn't getting it. I couldn't do it. He had my parents come in the following week and we talked and that's when we decided I should go on the methadone clinic,\"\"Hx of Non Suicidal Self Injurious Behavior: No\"\n",
            "\n",
            "2\ts 03/1980 Positive PPD: treated with INH for 6 months\n",
            "\n",
            "3\t: 7/11/90CPT code: 99205\n",
            "\n",
            "4\t: 6/02/1986CPT Code: 90792: With medical services\n",
            "\n",
            "5\ts  25 yo married female with hx of low grade anxiety, perfectionism and attention presents with increasing sx of depression after being laid off from her job in Mar 2012. This intake interview was conducted as a one time consult intake with the goal of referral to appropriate services.\n",
            "\n",
            "6\t: 6/18/85Primary Care Doctor:\n",
            "\n",
            "7\t: NV fire fighter died Sep 2007 while working.  Was friend from deployment to San Marino and trainings for years prior.  Still troubling to pt.  Didn't go to his funeral.  Spiritual/Religion:\n",
            "\n",
            "8\t\"sDec 1975:  \"\"Several days\"\", LEPROSARIUM, voluntary admission for acute manic episode with ? delusions.  Discharged on risperidone to follow up with Dr. Dodge in Ayer.Hx of Outpatient Treatment: Yes\"\n",
            "\n",
            "9\t: craniotomy 8/1986Prior relevant labs:\n",
            "\n",
            "10\t. 3 years ago in a motorcycle accident and had a TBI - in Japan. Migraines 15-30 days a month since March 1979. Occipital nerve block shots and migraines have resolved.\n",
            "\n",
            "11\t: 9/17/72Primary Care Doctor:\n",
            "\n",
            "12\t.On 06 Oct 2003 patient sought attention of CMC PCP Dr. Nevarez, who consulted  Grandview Sanitarium, obrained consultation from this psychiatrist, who considered SSRI 'poop out' and suggested swtich from paroxitine to fluoxetine.\n",
            "\n",
            "13\t: 11/24/94SOS-10 Total Score:\n",
            "\n",
            "14\t: Father died in November 1987Spiritual/Religion:\n",
            "\n",
            "15\t: 8/16/92SOS-10 Total Score:\n",
            "\n"
          ]
        }
      ],
      "source": [
        "with open(path_to_dates_txt_file) as file:\n",
        "  lines = file.readlines()\n",
        "\n",
        "print(*lines[:16],sep='\\n')  # print the first 5 rows in the file"
      ]
    },
    {
      "cell_type": "markdown",
      "id": "pPIOMGkbxKMu",
      "metadata": {
        "id": "pPIOMGkbxKMu"
      },
      "source": [
        "#### Шаг 2: Извлечение дат\n",
        "- В нашем шаблоне мы используем `reg = \"\\w+\"`, что означает, что мы хотим выбрать все «слова» (последовательные символы слова) в строке.\n",
        "- Мы также используем функцию re.findall(), которая возвращает список элементов, соответствующих выбранному вами регулярному выражению. Вы можете использовать любые другие функции, которые помогут вам найти нужные даты."
      ]
    },
    {
      "cell_type": "code",
      "source": [
        "import re\n",
        "from re import sub, search, findall"
      ],
      "metadata": {
        "id": "HPqCDtk2z7pI"
      },
      "id": "HPqCDtk2z7pI",
      "execution_count": 23,
      "outputs": []
    },
    {
      "cell_type": "code",
      "execution_count": 24,
      "id": "018b47ce",
      "metadata": {
        "id": "018b47ce"
      },
      "outputs": [],
      "source": [
        "reg = \"your_reg_expr\"\n",
        "extracted_contents = {}  # {row_index: extracted_contents}\n",
        "for line in lines:\n",
        "  line_content = line.split('\\t')\n",
        "  extracted_contents[line_content[0]] = re.findall(reg, line_content[1])"
      ]
    },
    {
      "cell_type": "markdown",
      "id": "cvOMVslXxftm",
      "metadata": {
        "id": "cvOMVslXxftm"
      },
      "source": [
        "#### Шаг 3: Нормализация даты\n",
        "- Здесь я предоставляю некоторые правила, которые я объяснил выше в коде.\n",
        "\n",
        "\n",
        "       - Пример 1. Если дата выглядит так: «09/1975» или «12/1989», вам необходимо преобразовать ее в «1975-09-01» и «1989-12-01»."
      ]
    },
    {
      "cell_type": "code",
      "execution_count": 25,
      "id": "9HjistK9xgE6",
      "metadata": {
        "colab": {
          "base_uri": "https://localhost:8080/",
          "height": 35
        },
        "id": "9HjistK9xgE6",
        "outputId": "6e7945b4-af0c-458d-aa70-b555ae3d1cbf"
      },
      "outputs": [
        {
          "output_type": "execute_result",
          "data": {
            "text/plain": [
              "'1975-09-01'"
            ],
            "application/vnd.google.colaboratory.intrinsic+json": {
              "type": "string"
            }
          },
          "metadata": {},
          "execution_count": 25
        }
      ],
      "source": [
        "# пример 1\n",
        "date = '09/1975'\n",
        "date_split = date.split('/')\n",
        "new_date = f\"{date_split[1]}-{date_split[0]}-01\"\n",
        "new_date"
      ]
    },
    {
      "cell_type": "code",
      "source": [
        "date = '7/09/1975'\n",
        "pattern = r'(\\d{1,2})[/\\-.](\\d{1,2}|\\w{3})[/\\-.](\\d{2,4})|\\b(\\w{3})[, ]\\s*(\\d{4})\\b'\n",
        "res = re.search(pattern, date)\n",
        "res"
      ],
      "metadata": {
        "colab": {
          "base_uri": "https://localhost:8080/"
        },
        "id": "ecnRQ7bMD_6h",
        "outputId": "85ae5fc0-16f8-4c9f-8797-d3341a4fe64e"
      },
      "id": "ecnRQ7bMD_6h",
      "execution_count": 26,
      "outputs": [
        {
          "output_type": "execute_result",
          "data": {
            "text/plain": [
              "<re.Match object; span=(0, 9), match='7/09/1975'>"
            ]
          },
          "metadata": {},
          "execution_count": 26
        }
      ]
    },
    {
      "cell_type": "code",
      "execution_count": 27,
      "id": "TiZyFegpxqQ8",
      "metadata": {
        "colab": {
          "base_uri": "https://localhost:8080/",
          "height": 35
        },
        "id": "TiZyFegpxqQ8",
        "outputId": "3c3fbf72-de17-430f-952c-1fb0e24b1d6c"
      },
      "outputs": [
        {
          "output_type": "execute_result",
          "data": {
            "text/plain": [
              "'1981-06-01'"
            ],
            "application/vnd.google.colaboratory.intrinsic+json": {
              "type": "string"
            }
          },
          "metadata": {},
          "execution_count": 27
        }
      ],
      "source": [
        "# пример 2\n",
        "date = 'June 1981'\n",
        "date_split = date.split(' ')\n",
        "i = '06' if date_split[0]=='June' else 'write your own code'\n",
        "new_date = f\"{date_split[1]}-{i}-01\"\n",
        "new_date"
      ]
    },
    {
      "cell_type": "markdown",
      "id": "ao-mjtiKx1yL",
      "metadata": {
        "id": "ao-mjtiKx1yL"
      },
      "source": [
        "#### Шаг 4. Запишите результаты в файл `.txt`\n",
        "\n",
        "- Вы можете изменить это, если вам будет проще записать файл по-другому, если он соответствует требованиям к отправке."
      ]
    },
    {
      "cell_type": "code",
      "execution_count": 28,
      "id": "0HtnBB2AzuOB",
      "metadata": {
        "id": "0HtnBB2AzuOB"
      },
      "outputs": [],
      "source": [
        "your_surname = 'assignment_Spirova'"
      ]
    },
    {
      "cell_type": "code",
      "execution_count": null,
      "id": "ac23dac4",
      "metadata": {
        "id": "ac23dac4"
      },
      "outputs": [],
      "source": [
        "with open(f'assignment_{your_surname}.txt', \"w\") as f:\n",
        "    for line in output:\n",
        "        f.write(line)\n",
        "        f.write('\\n')"
      ]
    },
    {
      "cell_type": "markdown",
      "id": "DIvhaFYHyAFZ",
      "metadata": {
        "id": "DIvhaFYHyAFZ"
      },
      "source": [
        "## **Требования к отправке**\n",
        "1. Убедитесь, что вы использовали код для записи в файл с именем **`assignment_your_surname.txt`** для отправки.\n",
        "2. Отправьте результаты в виде файла **.txt**.\n",
        "3. Каждая строка в вашем файле должна иметь формат **`<line_number><tab><formatted_date>`**.\n",
        "   > Пример: `0 1992-10-12`\n",
        "\n",
        "\n",
        "\n",
        "Ваш файл будет сравнён с \"золотым стандартом\"\n",
        "\n",
        "Оценка \"зачёт\" будет высталвена при точности >= 30%\n",
        "\n",
        "При точности менее, рекомендовано переделать задание\n",
        "\n",
        "\n",
        "\n",
        "\n",
        " **Желаю Удачи!**"
      ]
    },
    {
      "cell_type": "markdown",
      "source": [
        "# Функция для извлечения дат из текста."
      ],
      "metadata": {
        "id": "41bJg2qr841E"
      },
      "id": "41bJg2qr841E"
    },
    {
      "cell_type": "code",
      "source": [
        "import re\n",
        "from datetime import datetime\n",
        "\n",
        "def normalize_date(date_str):\n",
        "  pattern = r'(\\d{1,2})[/-](\\d{1,2})[/-](\\d{2,4})|(\\d{1,2})/(\\d{2,4})|(\\d{1,2})\\s(\\w{3,9})\\s(\\d{4})|(\\w{3,9})[,\\s]\\s*(\\d{4})|([A-Z][a-z]{2,8})\\s(\\d{1,2}),\\s(\\d{4})|(\\b\\d{4}\\b)'\n",
        "  # pattern_1 = r'(\\d{1,2})[/-](\\d{1,2})[/-](\\d{2,4})' # 7/21/1999, 7/11/90, 11-20-2011, 9-30-82\n",
        "  # pattern_2 = r'(\\d{1,2})/(\\d{2,4})' # 03/1980, 5/84\n",
        "  # pattern_3 = r'(\\d{1,2})\\s(\\w{3,9})\\s(\\d{4})' # 06 Oct 2003, 26 May 2010\n",
        "  # pattern_4 = r'(\\w{3,9})[,\\s]\\s*(\\d{4})|(\\w{3,9})\\s+(\\d{4})' # June 1981 или Marc, 1981 или May, 2004 или Jan 2015\n",
        "  # pattern_5 = r'([A-Z][a-z]{2,8})\\s(\\d{1,2}),\\s(\\d{4})' # May 30, 2001\n",
        "  # pattern_6 = r'(\\b\\d{4}\\b)' # 1975\n",
        "\n",
        "  match = re.search(pattern, date_str)\n",
        "\n",
        "  if match:\n",
        "    if match.group(1):\n",
        "      day = int(match.group(2))\n",
        "      month = int(match.group(1))\n",
        "      year = int(match.group(3))\n",
        "      if year and len(str(year)) == 2:\n",
        "        year += 1900\n",
        "      return f\"{year:04d}-{month:02d}-{day:02d}\"\n",
        "    elif match.group(4):\n",
        "      month = int(match.group(4))\n",
        "      year = int(match.group(5))\n",
        "      if year and len(str(year)) == 2:\n",
        "        year += 1900\n",
        "      return f\"{year:04d}-{month:02d}-01\"\n",
        "    elif match.group(6):\n",
        "      day = int(match.group(6))\n",
        "      month = match.group(7)\n",
        "      year = int(match.group(8))\n",
        "      try:\n",
        "        month = datetime.strptime(month, '%b').month\n",
        "        month = int(month)\n",
        "        return f\"{year:04d}-{month:02d}-{day:02d}\"\n",
        "      except:\n",
        "        return f\"{year:04d}-01-01\"\n",
        "    elif match.group(9):\n",
        "      month = match.group(9)\n",
        "      year = int(match.group(10))\n",
        "      try:\n",
        "        month = month.strip()[:3]\n",
        "        month = datetime.strptime(month, '%b').month\n",
        "        month = int(month)\n",
        "        return f\"{year:04d}-{month:02d}-01\"\n",
        "      except:\n",
        "        return f\"{year:04d}-01-01\"\n",
        "    elif match.group(11):\n",
        "      day = int(match.group(12))\n",
        "      month = match.group(11)\n",
        "      year = int(match.group(13))\n",
        "      try:\n",
        "        month = month.strip()[:3]\n",
        "        month = datetime.strptime(month, '%b').month\n",
        "        month = int(month)\n",
        "        return f\"{year:04d}-{month:02d}-{day:02d}\"\n",
        "      except:\n",
        "        return f\"{year:04d}-01-01\"\n",
        "    elif match.group(14):\n",
        "      year = int(match.group(14))\n",
        "      return f\"{year:04d}-01-01\"\n",
        "  return \"\"\n",
        "\n",
        "def extract_dates(input_file, output_file):\n",
        "    # Регулярное выражение для игнорирования телефонных номеров\n",
        "    phone_pattern = r'\\d{3}-\\d{3}-\\d{4}'\n",
        "\n",
        "    with open(input_file, 'r') as file:\n",
        "        with open(output_file, 'w') as output:\n",
        "            for line in file:\n",
        "                # Пропускаем строки с телефонными номерами\n",
        "                if re.search(phone_pattern, line):\n",
        "                    continue\n",
        "\n",
        "                parts = line.strip().split('\\t')\n",
        "                if len(parts) < 2:\n",
        "                    continue\n",
        "\n",
        "                index = parts[0]\n",
        "                content = parts[1]\n",
        "\n",
        "                # Извлечение дат из содержимого\n",
        "                dates = re.findall(r'((\\d{1,2})[/-](\\d{1,2})[/-](\\d{2,4}))|((\\d{1,2})/(\\d{2,4}))|((\\d{1,2})\\s(\\w{3,9})\\s(\\d{4}))|((\\w{3,9})[,\\s]\\s*(\\d{4}))|(([A-Z][a-z]{2,8})\\s(\\d{1,2}),\\s(\\d{4}))|((\\b\\d{4}\\b))', content)\n",
        "\n",
        "                # Преобразование дат в формат гггг-ММ-дд\n",
        "                formatted_dates = []\n",
        "                for date_parts in dates:\n",
        "                    formatted_date = normalize_date(' '.join(date_parts))\n",
        "                    if formatted_date:\n",
        "                        formatted_dates.append(formatted_date)\n",
        "\n",
        "                # Запись в выходной файл\n",
        "                for formatted_date in formatted_dates:\n",
        "                    output.write(f\"{index}\\t{formatted_date}\\n\")\n",
        "\n",
        "# Запуск функции\n",
        "extract_dates('/content/drive/MyDrive/Data/dates.txt', '/content/drive/MyDrive/Data/assignment_Spirova.txt')\n"
      ],
      "metadata": {
        "id": "QbDQoV2zGTFI"
      },
      "id": "QbDQoV2zGTFI",
      "execution_count": 20,
      "outputs": []
    },
    {
      "cell_type": "markdown",
      "source": [
        "Не удалось вытащить вообще всё, но большинство дат получилось обработать."
      ],
      "metadata": {
        "id": "hi7iOtvd8nip"
      },
      "id": "hi7iOtvd8nip"
    }
  ],
  "metadata": {
    "colab": {
      "provenance": []
    },
    "kernelspec": {
      "display_name": "Python 3",
      "name": "python3"
    },
    "language_info": {
      "codemirror_mode": {
        "name": "ipython",
        "version": 3
      },
      "file_extension": ".py",
      "mimetype": "text/x-python",
      "name": "python",
      "nbconvert_exporter": "python",
      "pygments_lexer": "ipython3",
      "version": "3.9.13"
    }
  },
  "nbformat": 4,
  "nbformat_minor": 5
}